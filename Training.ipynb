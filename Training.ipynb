{
  "cells": [
    {
      "cell_type": "markdown",
      "metadata": {
        "id": "view-in-github",
        "colab_type": "text"
      },
      "source": [
        "<a href=\"https://colab.research.google.com/github/caffeinated4ighs/Forest_Fires_satellite/blob/main/Training.ipynb\" target=\"_parent\"><img src=\"https://colab.research.google.com/assets/colab-badge.svg\" alt=\"Open In Colab\"/></a>"
      ]
    },
    {
      "cell_type": "code",
      "execution_count": null,
      "metadata": {
        "colab": {
          "base_uri": "https://localhost:8080/"
        },
        "id": "q679WEAwhIOr",
        "outputId": "89993a0e-1aff-491d-a0f0-ca5d4cf2473c"
      },
      "outputs": [
        {
          "output_type": "stream",
          "name": "stdout",
          "text": [
            "Collecting rasterio\n",
            "  Downloading rasterio-1.3.9-cp310-cp310-manylinux2014_x86_64.whl (20.6 MB)\n",
            "\u001b[2K     \u001b[90m━━━━━━━━━━━━━━━━━━━━━━━━━━━━━━━━━━━━━━━━\u001b[0m \u001b[32m20.6/20.6 MB\u001b[0m \u001b[31m58.2 MB/s\u001b[0m eta \u001b[36m0:00:00\u001b[0m\n",
            "\u001b[?25hCollecting affine (from rasterio)\n",
            "  Downloading affine-2.4.0-py3-none-any.whl (15 kB)\n",
            "Requirement already satisfied: attrs in /usr/local/lib/python3.10/dist-packages (from rasterio) (23.1.0)\n",
            "Requirement already satisfied: certifi in /usr/local/lib/python3.10/dist-packages (from rasterio) (2023.11.17)\n",
            "Requirement already satisfied: click>=4.0 in /usr/local/lib/python3.10/dist-packages (from rasterio) (8.1.7)\n",
            "Requirement already satisfied: cligj>=0.5 in /usr/local/lib/python3.10/dist-packages (from rasterio) (0.7.2)\n",
            "Requirement already satisfied: numpy in /usr/local/lib/python3.10/dist-packages (from rasterio) (1.23.5)\n",
            "Collecting snuggs>=1.4.1 (from rasterio)\n",
            "  Downloading snuggs-1.4.7-py3-none-any.whl (5.4 kB)\n",
            "Requirement already satisfied: click-plugins in /usr/local/lib/python3.10/dist-packages (from rasterio) (1.1.1)\n",
            "Requirement already satisfied: setuptools in /usr/local/lib/python3.10/dist-packages (from rasterio) (67.7.2)\n",
            "Requirement already satisfied: pyparsing>=2.1.6 in /usr/local/lib/python3.10/dist-packages (from snuggs>=1.4.1->rasterio) (3.1.1)\n",
            "Installing collected packages: snuggs, affine, rasterio\n",
            "Successfully installed affine-2.4.0 rasterio-1.3.9 snuggs-1.4.7\n"
          ]
        }
      ],
      "source": [
        "!pip install rasterio\n"
      ]
    },
    {
      "cell_type": "markdown",
      "source": [],
      "metadata": {
        "id": "3MQiOjc7Rzp5"
      }
    },
    {
      "cell_type": "code",
      "execution_count": null,
      "metadata": {
        "id": "vtO1N81hda6c"
      },
      "outputs": [],
      "source": [
        "import tensorflow as tf\n",
        "from keras.preprocessing.image import ImageDataGenerator\n",
        "import numpy as np\n",
        "import pandas as pd\n",
        "import matplotlib.pyplot as plt\n",
        "import rasterio\n",
        "from sklearn.model_selection import train_test_split\n",
        "import os\n",
        "from tensorflow.keras import models, layers"
      ]
    },
    {
      "cell_type": "code",
      "execution_count": null,
      "metadata": {
        "id": "PY3hkC_3gv3C"
      },
      "outputs": [],
      "source": [
        "dataset_dir = '/content/drive/MyDrive/dataset'"
      ]
    },
    {
      "cell_type": "code",
      "execution_count": null,
      "metadata": {
        "id": "s1AMN1uJgcTq"
      },
      "outputs": [],
      "source": [
        "subdirs = ['1', '2']\n",
        "#1 is fire and 2 is non-fire\n",
        "img_paths = []\n",
        "labels = []\n",
        "\n",
        "for subdir in subdirs:\n",
        "    subdir_path = os.path.join(dataset_dir, subdir)\n",
        "    for img in os.listdir(subdir_path):\n",
        "        img_paths.append(os.path.join(subdir_path, img))\n",
        "        labels.append(subdir)\n",
        "\n",
        "img_paths = np.array(img_paths)\n",
        "labels = np.array(labels)\n",
        "\n",
        "# Split the data into 70% training and 15% testing and 15% validation\n",
        "X_train, X_temp, y_train, y_temp = train_test_split(img_paths, labels, test_size=0.3, random_state = 42)\n",
        "X_test, X_val, y_test, y_val = train_test_split(X_temp, y_temp, test_size = 0.5, random_state = 69)\n"
      ]
    },
    {
      "cell_type": "code",
      "execution_count": null,
      "metadata": {
        "colab": {
          "base_uri": "https://localhost:8080/"
        },
        "id": "E1AaachR2MOR",
        "outputId": "d7c203cb-94ea-4276-f786-7bf2ebcc4952"
      },
      "outputs": [
        {
          "output_type": "stream",
          "name": "stdout",
          "text": [
            "(54,)\n",
            "(12,)\n",
            "(12,)\n"
          ]
        }
      ],
      "source": [
        "print(X_train.shape)\n",
        "print(X_test.shape)\n",
        "print(X_val.shape)"
      ]
    },
    {
      "cell_type": "code",
      "execution_count": null,
      "metadata": {
        "id": "xQKNLl3AuInO"
      },
      "outputs": [],
      "source": [
        "def read_geotiffs(file_paths):\n",
        "    data = []\n",
        "    for file_path in file_paths:\n",
        "        with rasterio.open(file_path) as src:\n",
        "            #bands from the GeoTIFF\n",
        "            bands = []\n",
        "            for band in range(1, src.count + 1):  # Loop through each band\n",
        "                band_data = src.read(band)\n",
        "                bands.append(band_data)\n",
        "            # Stack bands together\n",
        "            image = np.stack(bands, axis=-1)\n",
        "            data.append(image)\n",
        "    return np.array(data)\n",
        "\n",
        "X_train = read_geotiffs(X_train)\n",
        "X_test = read_geotiffs(X_test)\n",
        "X_val = read_geotiffs(X_val)"
      ]
    },
    {
      "cell_type": "code",
      "execution_count": null,
      "metadata": {
        "colab": {
          "base_uri": "https://localhost:8080/"
        },
        "id": "O-lbehUAvaKB",
        "outputId": "4ed40714-65d4-45ab-d64d-c893e622a746"
      },
      "outputs": [
        {
          "output_type": "stream",
          "name": "stdout",
          "text": [
            "(54, 512, 512, 6)\n",
            "(12, 512, 512, 6)\n",
            "(12, 512, 512, 6)\n"
          ]
        }
      ],
      "source": [
        "print(X_train.shape)\n",
        "print(X_test.shape)\n",
        "print(X_val.shape)"
      ]
    },
    {
      "cell_type": "code",
      "execution_count": null,
      "metadata": {
        "id": "Y8UEW9_TjnyB"
      },
      "outputs": [],
      "source": [
        "num_images, height, width, num_bands = X_train.shape\n",
        "x_train_reshaped = X_train.reshape(-1, num_bands)\n",
        "\n",
        "min_vals = np.min(x_train_reshaped, axis=0)\n",
        "max_vals = np.max(x_train_reshaped, axis=0)\n",
        "\n",
        "max_vals[max_vals == min_vals] = min_vals[max_vals == min_vals] + 1.0\n",
        "\n",
        "x_train_normalized = (x_train_reshaped - min_vals) / (max_vals - min_vals)\n",
        "\n",
        "x_train_normalized = x_train_normalized.reshape(num_images, height, width, num_bands)"
      ]
    },
    {
      "cell_type": "code",
      "execution_count": null,
      "metadata": {
        "colab": {
          "base_uri": "https://localhost:8080/"
        },
        "id": "8poC4CZIvaHf",
        "outputId": "b2350085-75dd-4670-c2d0-cf92b4c5e34f"
      },
      "outputs": [
        {
          "output_type": "stream",
          "name": "stdout",
          "text": [
            "(54, 512, 512, 6)\n"
          ]
        }
      ],
      "source": [
        "print(x_train_normalized.shape)\n"
      ]
    },
    {
      "cell_type": "code",
      "execution_count": null,
      "metadata": {
        "id": "g0RCFH1fu--C"
      },
      "outputs": [],
      "source": [
        "num_images, height, width, num_bands = X_test.shape\n",
        "x_test_reshaped = X_test.reshape(-1, num_bands)\n",
        "\n",
        "min_vals = np.min(x_test_reshaped, axis=0)\n",
        "max_vals = np.max(x_test_reshaped, axis=0)\n",
        "\n",
        "max_vals[max_vals == min_vals] = min_vals[max_vals == min_vals] + 1.0\n",
        "\n",
        "x_test_normalized = (x_test_reshaped - min_vals) / (max_vals - min_vals)\n",
        "\n",
        "x_test_normalized = x_test_normalized.reshape(num_images, height, width, num_bands)"
      ]
    },
    {
      "cell_type": "code",
      "execution_count": null,
      "metadata": {
        "colab": {
          "base_uri": "https://localhost:8080/"
        },
        "id": "ou4LhqMm1geM",
        "outputId": "0933e0c3-a0e3-42c3-e777-ee66b43152cf"
      },
      "outputs": [
        {
          "output_type": "stream",
          "name": "stdout",
          "text": [
            "(12, 512, 512, 6)\n"
          ]
        }
      ],
      "source": [
        "print(x_test_normalized.shape)"
      ]
    },
    {
      "cell_type": "code",
      "execution_count": null,
      "metadata": {
        "id": "xZAgYeAT0Ik8"
      },
      "outputs": [],
      "source": [
        "num_images, height, width, num_bands = X_val.shape\n",
        "x_val_reshaped = X_val.reshape(-1, num_bands)\n",
        "\n",
        "min_vals = np.min(x_val_reshaped, axis=0)\n",
        "max_vals = np.max(x_val_reshaped, axis=0)\n",
        "\n",
        "\n",
        "max_vals[max_vals == min_vals] = min_vals[max_vals == min_vals] + 1.0\n",
        "\n",
        "x_val_normalized = (x_val_reshaped - min_vals) / (max_vals - min_vals)\n",
        "\n",
        "x_val_normalized = x_val_normalized.reshape(num_images, height, width, num_bands)"
      ]
    },
    {
      "cell_type": "code",
      "execution_count": null,
      "metadata": {
        "colab": {
          "base_uri": "https://localhost:8080/"
        },
        "id": "gmVPiFjevaEx",
        "outputId": "017edb17-27b2-43cd-8792-5edb2ebea460"
      },
      "outputs": [
        {
          "output_type": "stream",
          "name": "stdout",
          "text": [
            "(12, 512, 512, 6)\n"
          ]
        }
      ],
      "source": [
        "print(x_val_normalized.shape)"
      ]
    },
    {
      "cell_type": "code",
      "execution_count": null,
      "metadata": {
        "colab": {
          "base_uri": "https://localhost:8080/"
        },
        "id": "6I-PtEJSmaq4",
        "outputId": "a2ad3d5e-5a59-4930-f083-ee69e1228f11"
      },
      "outputs": [
        {
          "output_type": "stream",
          "name": "stdout",
          "text": [
            "(54, 512, 512, 6)\n",
            "(12, 512, 512, 6)\n",
            "(12, 512, 512, 6)\n"
          ]
        }
      ],
      "source": [
        "\n",
        "print(x_train_normalized.shape)\n",
        "print(x_test_normalized.shape)\n",
        "print(x_val_normalized.shape)\n",
        "\n",
        "X_train = x_train_normalized\n",
        "X_test = x_test_normalized\n",
        "X_val = x_val_normalized"
      ]
    },
    {
      "cell_type": "code",
      "execution_count": null,
      "metadata": {
        "id": "Jo8kriUzHkC9"
      },
      "outputs": [],
      "source": [
        "#labels to binary class\n",
        "y_train = y_train.astype('float32')\n",
        "y_test = y_test.astype('float32')\n",
        "y_val = y_val.astype('float32')\n"
      ]
    },
    {
      "cell_type": "code",
      "execution_count": null,
      "metadata": {
        "colab": {
          "base_uri": "https://localhost:8080/"
        },
        "id": "VW4-A4LBeFOX",
        "outputId": "b3ae04e3-89e9-4bd7-8679-2d9ca1ed2a97"
      },
      "outputs": [
        {
          "output_type": "stream",
          "name": "stdout",
          "text": [
            "Model: \"sequential\"\n",
            "_________________________________________________________________\n",
            " Layer (type)                Output Shape              Param #   \n",
            "=================================================================\n",
            " conv2d (Conv2D)             (None, 510, 510, 32)      1760      \n",
            "                                                                 \n",
            " max_pooling2d (MaxPooling2  (None, 255, 255, 32)      0         \n",
            " D)                                                              \n",
            "                                                                 \n",
            " conv2d_1 (Conv2D)           (None, 253, 253, 64)      18496     \n",
            "                                                                 \n",
            " max_pooling2d_1 (MaxPoolin  (None, 126, 126, 64)      0         \n",
            " g2D)                                                            \n",
            "                                                                 \n",
            " conv2d_2 (Conv2D)           (None, 124, 124, 64)      36928     \n",
            "                                                                 \n",
            " max_pooling2d_2 (MaxPoolin  (None, 62, 62, 64)        0         \n",
            " g2D)                                                            \n",
            "                                                                 \n",
            " conv2d_3 (Conv2D)           (None, 60, 60, 64)        36928     \n",
            "                                                                 \n",
            " max_pooling2d_3 (MaxPoolin  (None, 30, 30, 64)        0         \n",
            " g2D)                                                            \n",
            "                                                                 \n",
            " conv2d_4 (Conv2D)           (None, 28, 28, 64)        36928     \n",
            "                                                                 \n",
            " max_pooling2d_4 (MaxPoolin  (None, 14, 14, 64)        0         \n",
            " g2D)                                                            \n",
            "                                                                 \n",
            " flatten (Flatten)           (None, 12544)             0         \n",
            "                                                                 \n",
            " dense (Dense)               (None, 64)                802880    \n",
            "                                                                 \n",
            " dense_1 (Dense)             (None, 1)                 65        \n",
            "                                                                 \n",
            "=================================================================\n",
            "Total params: 933985 (3.56 MB)\n",
            "Trainable params: 933985 (3.56 MB)\n",
            "Non-trainable params: 0 (0.00 Byte)\n",
            "_________________________________________________________________\n",
            "Epoch 1/10\n",
            "11/11 [==============================] - 9s 257ms/step - loss: -205.5648 - accuracy: 0.3704 - val_loss: -2008.7134 - val_accuracy: 0.3333\n",
            "Epoch 2/10\n",
            "11/11 [==============================] - 1s 54ms/step - loss: -17395.4902 - accuracy: 0.4259 - val_loss: -163514.9844 - val_accuracy: 0.3333\n",
            "Epoch 3/10\n",
            "11/11 [==============================] - 1s 64ms/step - loss: -566259.8750 - accuracy: 0.4259 - val_loss: -3024006.2500 - val_accuracy: 0.3333\n",
            "Epoch 4/10\n",
            "11/11 [==============================] - 1s 66ms/step - loss: -7471879.0000 - accuracy: 0.4259 - val_loss: -31752216.0000 - val_accuracy: 0.3333\n",
            "Epoch 5/10\n",
            "11/11 [==============================] - 1s 62ms/step - loss: -60310564.0000 - accuracy: 0.4259 - val_loss: -225071600.0000 - val_accuracy: 0.3333\n",
            "Epoch 6/10\n",
            "11/11 [==============================] - 1s 65ms/step - loss: -371852768.0000 - accuracy: 0.4259 - val_loss: -1156887168.0000 - val_accuracy: 0.3333\n",
            "Epoch 7/10\n",
            "11/11 [==============================] - 1s 65ms/step - loss: -1548834944.0000 - accuracy: 0.4259 - val_loss: -4749283328.0000 - val_accuracy: 0.3333\n",
            "Epoch 8/10\n",
            "11/11 [==============================] - 1s 67ms/step - loss: -5585928192.0000 - accuracy: 0.4259 - val_loss: -17079032832.0000 - val_accuracy: 0.3333\n",
            "Epoch 9/10\n",
            "11/11 [==============================] - 1s 65ms/step - loss: -19124279296.0000 - accuracy: 0.4259 - val_loss: -52800114688.0000 - val_accuracy: 0.3333\n",
            "Epoch 10/10\n",
            "11/11 [==============================] - 1s 51ms/step - loss: -57990524928.0000 - accuracy: 0.4259 - val_loss: -144631611392.0000 - val_accuracy: 0.3333\n",
            "1/1 [==============================] - 1s 1s/step - loss: -82818572288.0000 - accuracy: 0.6667\n",
            "Test accuracy: 0.6666666865348816\n"
          ]
        }
      ],
      "source": [
        "#CNN architecture\n",
        "model = models.Sequential()\n",
        "model.add(layers.Conv2D(32, (3, 3), activation='relu', input_shape=(512, 512, 6)))\n",
        "model.add(layers.MaxPooling2D((2, 2)))\n",
        "\n",
        "model.add(layers.Conv2D(64, (3, 3), activation='relu'))\n",
        "model.add(layers.MaxPooling2D((2, 2)))\n",
        "\n",
        "model.add(layers.Conv2D(64, (3, 3), activation='relu'))\n",
        "model.add(layers.MaxPooling2D((2, 2)))\n",
        "\n",
        "model.add(layers.Conv2D(64, (3, 3), activation='relu'))\n",
        "model.add(layers.MaxPooling2D((2, 2)))\n",
        "\n",
        "model.add(layers.Conv2D(64, (3, 3), activation='relu'))\n",
        "model.add(layers.MaxPooling2D((2, 2)))\n",
        "\n",
        "model.add(layers.Flatten())\n",
        "\n",
        "model.add(layers.Dense(64, activation='relu'))\n",
        "\n",
        "model.add(layers.Dense(1, activation='sigmoid'))\n",
        "\n",
        "\n",
        "model.compile(optimizer='adam', loss='binary_crossentropy', metrics=['accuracy'])\n",
        "\n",
        "model.summary()\n",
        "\n",
        "# Train\n",
        "history1 = model.fit(X_train, y_train, epochs=10, batch_size=5, validation_data=(X_test, y_test))\n",
        "\n",
        "# Evaluate\n",
        "test_loss, test_acc = model.evaluate(X_val, y_val)\n",
        "print(f'Test accuracy: {test_acc}')\n",
        "\n",
        "model.save('/content/drive/MyDrive/Networks_WnB/CNN')"
      ]
    },
    {
      "cell_type": "code",
      "execution_count": null,
      "metadata": {
        "colab": {
          "base_uri": "https://localhost:8080/"
        },
        "id": "sIlsTGqRGZnG",
        "outputId": "8cd56408-71a3-4fe4-c030-c5eb3019fbaf"
      },
      "outputs": [
        {
          "output_type": "stream",
          "name": "stdout",
          "text": [
            "Model: \"sequential\"\n",
            "_________________________________________________________________\n",
            " Layer (type)                Output Shape              Param #   \n",
            "=================================================================\n",
            " conv2d (Conv2D)             (None, 510, 510, 32)      1760      \n",
            "                                                                 \n",
            " max_pooling2d (MaxPooling2  (None, 255, 255, 32)      0         \n",
            " D)                                                              \n",
            "                                                                 \n",
            " conv2d_1 (Conv2D)           (None, 253, 253, 64)      18496     \n",
            "                                                                 \n",
            " max_pooling2d_1 (MaxPoolin  (None, 126, 126, 64)      0         \n",
            " g2D)                                                            \n",
            "                                                                 \n",
            " conv2d_2 (Conv2D)           (None, 124, 124, 64)      36928     \n",
            "                                                                 \n",
            " max_pooling2d_2 (MaxPoolin  (None, 62, 62, 64)        0         \n",
            " g2D)                                                            \n",
            "                                                                 \n",
            " conv2d_3 (Conv2D)           (None, 60, 60, 64)        36928     \n",
            "                                                                 \n",
            " max_pooling2d_3 (MaxPoolin  (None, 30, 30, 64)        0         \n",
            " g2D)                                                            \n",
            "                                                                 \n",
            " conv2d_4 (Conv2D)           (None, 28, 28, 64)        36928     \n",
            "                                                                 \n",
            " max_pooling2d_4 (MaxPoolin  (None, 14, 14, 64)        0         \n",
            " g2D)                                                            \n",
            "                                                                 \n",
            " flatten (Flatten)           (None, 12544)             0         \n",
            "                                                                 \n",
            " dense (Dense)               (None, 64)                802880    \n",
            "                                                                 \n",
            " dense_1 (Dense)             (None, 1)                 65        \n",
            "                                                                 \n",
            "=================================================================\n",
            "Total params: 933985 (3.56 MB)\n",
            "Trainable params: 933985 (3.56 MB)\n",
            "Non-trainable params: 0 (0.00 Byte)\n",
            "_________________________________________________________________\n",
            "Epoch 1/10\n",
            "11/11 [==============================] - 3s 94ms/step - loss: -113879138304.0000 - accuracy: 0.4259 - val_loss: -124288827392.0000 - val_accuracy: 0.6667\n",
            "Epoch 2/10\n",
            "11/11 [==============================] - 1s 52ms/step - loss: -171672109056.0000 - accuracy: 0.4259 - val_loss: -183834902528.0000 - val_accuracy: 0.6667\n",
            "Epoch 3/10\n",
            "11/11 [==============================] - 1s 51ms/step - loss: -252473049088.0000 - accuracy: 0.4259 - val_loss: -277922152448.0000 - val_accuracy: 0.6667\n",
            "Epoch 4/10\n",
            "11/11 [==============================] - 1s 65ms/step - loss: -395703844864.0000 - accuracy: 0.4259 - val_loss: -425647308800.0000 - val_accuracy: 0.6667\n",
            "Epoch 5/10\n",
            "11/11 [==============================] - 1s 66ms/step - loss: -610880782336.0000 - accuracy: 0.4259 - val_loss: -672172015616.0000 - val_accuracy: 0.6667\n",
            "Epoch 6/10\n",
            "11/11 [==============================] - 1s 60ms/step - loss: -966138200064.0000 - accuracy: 0.4259 - val_loss: -1056378716160.0000 - val_accuracy: 0.6667\n",
            "Epoch 7/10\n",
            "11/11 [==============================] - 1s 59ms/step - loss: -1536408027136.0000 - accuracy: 0.4259 - val_loss: -1684215824384.0000 - val_accuracy: 0.6667\n",
            "Epoch 8/10\n",
            "11/11 [==============================] - 1s 67ms/step - loss: -2444617318400.0000 - accuracy: 0.4259 - val_loss: -2646683418624.0000 - val_accuracy: 0.6667\n",
            "Epoch 9/10\n",
            "11/11 [==============================] - 1s 63ms/step - loss: -3728744906752.0000 - accuracy: 0.4259 - val_loss: -4159728254976.0000 - val_accuracy: 0.6667\n",
            "Epoch 10/10\n",
            "11/11 [==============================] - 1s 58ms/step - loss: -5805138509824.0000 - accuracy: 0.4259 - val_loss: -6499689037824.0000 - val_accuracy: 0.6667\n",
            "1/1 [==============================] - 0s 112ms/step - loss: -11350692593664.0000 - accuracy: 0.3333\n",
            "Test accuracy: 0.3333333432674408\n"
          ]
        }
      ],
      "source": [
        "#U_NET\n",
        "inputs = layers.Input(shape=(512,512,6))\n",
        "\n",
        "# Encoder\n",
        "conv1 = layers.Conv2D(64, 3, activation='relu', padding='same')(inputs)\n",
        "pool1 = layers.MaxPooling2D(pool_size=(2, 2))(conv1)\n",
        "\n",
        "conv2 = layers.Conv2D(128, 3, activation='relu', padding='same')(pool1)\n",
        "pool2 = layers.MaxPooling2D(pool_size=(2, 2))(conv2)\n",
        "\n",
        "conv3 = layers.Conv2D(256, 3, activation='relu', padding='same')(pool2)\n",
        "pool3 = layers.MaxPooling2D(pool_size=(2, 2))(conv3)\n",
        "\n",
        "conv4 = layers.Conv2D(521, 3, activation='relu', padding='same')(pool3)\n",
        "pool4 = layers.MaxPooling2D(pool_size=(2, 2))(conv4)\n",
        "\n",
        "# Decoder\n",
        "up5 = layers.Conv2D(512, 2, activation='relu', padding='same')(layers.UpSampling2D(size=(2, 2))(pool4))\n",
        "merge5 = layers.Concatenate(axis=3)([conv4, up5])\n",
        "\n",
        "up6 = layers.Conv2D(256, 2, activation='relu', padding='same')(layers.UpSampling2D(size=(2, 2))(merge5))\n",
        "merge6 = layers.Concatenate(axis=3)([conv3, up6])\n",
        "\n",
        "up7 = layers.Conv2D(128, 2, activation='relu', padding='same')(layers.UpSampling2D(size=(2, 2))(merge6))\n",
        "merge7 = layers.Concatenate(axis=3)([conv2, up7])\n",
        "\n",
        "up8 = layers.Conv2D(64, 2, activation='relu', padding='same')(layers.UpSampling2D(size=(2, 2))(merge7))\n",
        "merge8 = layers.Concatenate(axis=3)([conv1, up8])\n",
        "\n",
        "# Output layer\n",
        "output = layers.Conv2D(1, 1, activation='sigmoid')(merge8)\n",
        "\n",
        "models.Model(inputs=inputs, outputs=output)\n",
        "\n",
        "model.compile(optimizer='adam', loss='binary_crossentropy', metrics=['accuracy'])\n",
        "\n",
        "model.summary()\n",
        "\n",
        "history2 = model.fit(X_train, y_train, epochs=10, batch_size=5, validation_data=(X_val, y_val))\n",
        "\n",
        "test_loss, test_acc = model.evaluate(X_test, y_test)\n",
        "print(f'Test accuracy: {test_acc}')\n",
        "\n",
        "model.save('/content/drive/MyDrive/Networks_WnB/UNET')"
      ]
    }
  ],
  "metadata": {
    "accelerator": "GPU",
    "colab": {
      "provenance": [],
      "gpuType": "T4",
      "mount_file_id": "13M6P07HiHNgSryGE9S9duE9M9IrBiEuT",
      "authorship_tag": "ABX9TyMDzydesSyx+ppMxbsbYm29",
      "include_colab_link": true
    },
    "kernelspec": {
      "display_name": "Python 3",
      "name": "python3"
    },
    "language_info": {
      "name": "python"
    }
  },
  "nbformat": 4,
  "nbformat_minor": 0
}